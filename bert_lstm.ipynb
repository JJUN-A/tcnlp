{
  "nbformat": 4,
  "nbformat_minor": 0,
  "metadata": {
    "kernelspec": {
      "display_name": "Python 3",
      "language": "python",
      "name": "python3"
    },
    "language_info": {
      "name": "python",
      "version": "3.6.8",
      "mimetype": "text/x-python",
      "codemirror_mode": {
        "name": "ipython",
        "version": 3
      },
      "pygments_lexer": "ipython3",
      "nbconvert_exporter": "python",
      "file_extension": ".py"
    },
    "pycharm": {
      "stem_cell": {
        "cell_type": "raw",
        "metadata": {
          "collapsed": false
        },
        "source": []
      }
    },
    "colab": {
      "name": "bert_lstm.ipynb",
      "provenance": [],
      "collapsed_sections": [],
      "include_colab_link": true
    }
  },
  "cells": [
    {
      "cell_type": "markdown",
      "metadata": {
        "id": "view-in-github",
        "colab_type": "text"
      },
      "source": [
        "<a href=\"https://colab.research.google.com/github/ZhouNLP/tcnlp/blob/master/bert_lstm.ipynb\" target=\"_parent\"><img src=\"https://colab.research.google.com/assets/colab-badge.svg\" alt=\"Open In Colab\"/></a>"
      ]
    },
    {
      "cell_type": "markdown",
      "metadata": {
        "id": "Ze8ktTw9j1WO",
        "colab_type": "text"
      },
      "source": [
        "将lstm和bert模型输出的10个对测试集预测的概率分布csv文件，放到根目录\n",
        "\n",
        "可尝试自行修改每个模型所占权重"
      ]
    },
    {
      "cell_type": "code",
      "metadata": {
        "id": "sneKT-dn7WeC",
        "colab_type": "code",
        "colab": {}
      },
      "source": [
        "import pandas as pd\n",
        "import numpy as np\n",
        "test_pred = np.zeros((50000, 14))"
      ],
      "execution_count": null,
      "outputs": []
    },
    {
      "cell_type": "code",
      "metadata": {
        "id": "Q9LJPvNkgIa0",
        "colab_type": "code",
        "colab": {}
      },
      "source": [
        "for i in range(0, 5):\n",
        "  df = pd.read_csv('lstm_{}.csv'.format(i), header=None)\n",
        "  test_pred += df.values * 0.08"
      ],
      "execution_count": null,
      "outputs": []
    },
    {
      "cell_type": "code",
      "metadata": {
        "id": "RjWLNI1UgDkN",
        "colab_type": "code",
        "colab": {}
      },
      "source": [
        "for i in range(5, 10):\n",
        "  df = pd.read_csv('bert_fold_{}.csv'.format(i), header=None)\n",
        "  test_pred += df.values * 0.12"
      ],
      "execution_count": null,
      "outputs": []
    },
    {
      "cell_type": "code",
      "metadata": {
        "id": "RZCcl0eGgkzz",
        "colab_type": "code",
        "colab": {}
      },
      "source": [
        "sub = pd.DataFrame()\n",
        "sub['label'] = np.argmax(test_pred, axis=1)\n",
        "sub.to_csv('bert_lstm_64.csv', index=False)  # 最终提交的文件"
      ],
      "execution_count": null,
      "outputs": []
    },
    {
      "cell_type": "code",
      "metadata": {
        "id": "SGHANHKeibnI",
        "colab_type": "code",
        "colab": {}
      },
      "source": [
        "# 如果需要生成测试集B的伪标签，则修改、运行下面的代码\n",
        "\n",
        "df_test_a = pd.read_csv('test_a.csv', sep='\\t')\n",
        "df_test_a['label'] = np.argmax(test_pred, axis=1)\n",
        "df_test_a['prob'] = np.max(test_pred, axis=1)"
      ],
      "execution_count": null,
      "outputs": []
    },
    {
      "cell_type": "code",
      "metadata": {
        "id": "_H3cocL9ili0",
        "colab_type": "code",
        "colab": {
          "base_uri": "https://localhost:8080/",
          "height": 34
        },
        "outputId": "164399b8-4925-4626-94af-997565c19021"
      },
      "source": [
        "df_test_a_fake_label = df_test_a[df_test_a['prob'] >= 0.9]\n",
        "df_test_a_fake_label.shape"
      ],
      "execution_count": null,
      "outputs": [
        {
          "output_type": "execute_result",
          "data": {
            "text/plain": [
              "(45749, 3)"
            ]
          },
          "metadata": {
            "tags": []
          },
          "execution_count": 29
        }
      ]
    },
    {
      "cell_type": "code",
      "metadata": {
        "id": "qNLFnNOyoSdh",
        "colab_type": "code",
        "colab": {}
      },
      "source": [
        "df_test_a_fake_label.to_csv('test_a_fake_label.csv', index=False, sep='\\t')"
      ],
      "execution_count": null,
      "outputs": []
    }
  ]
}